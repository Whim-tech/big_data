{
 "cells": [
  {
   "cell_type": "markdown",
   "metadata": {},
   "source": [
    "# Курсовая работа "
   ]
  },
  {
   "cell_type": "code",
   "execution_count": 8,
   "metadata": {},
   "outputs": [
    {
     "name": "stderr",
     "output_type": "stream",
     "text": [
      "23/12/25 12:56:01 WARN SparkSession: Using an existing Spark session; only runtime SQL configurations will take effect.\n"
     ]
    }
   ],
   "source": [
    "# Import SparkSession\n",
    "from pyspark.sql import SparkSession\n",
    "\n",
    "# Create SparkSession \n",
    "spark = SparkSession.builder \\\n",
    "      .master(\"local[4]\") \\\n",
    "      .appName(\"denoiser\") \\\n",
    "      .getOrCreate()"
   ]
  },
  {
   "cell_type": "code",
   "execution_count": 9,
   "metadata": {},
   "outputs": [
    {
     "name": "stdout",
     "output_type": "stream",
     "text": [
      "root\n",
      " |-- path: string (nullable = true)\n",
      " |-- modificationTime: timestamp (nullable = true)\n",
      " |-- length: long (nullable = true)\n",
      " |-- content: binary (nullable = true)\n",
      "\n",
      "+--------------------+--------------------+------+--------------------+\n",
      "|                path|    modificationTime|length|             content|\n",
      "+--------------------+--------------------+------+--------------------+\n",
      "|file:/home/whim/u...|2023-12-25 12:51:...|120788|[89 50 4E 47 0D 0...|\n",
      "|file:/home/whim/u...|2023-12-25 12:51:...|113885|[89 50 4E 47 0D 0...|\n",
      "+--------------------+--------------------+------+--------------------+\n",
      "\n"
     ]
    }
   ],
   "source": [
    "data = spark.read.format(\"binaryFile\").load(\"./data/*.png\")\n",
    "\n",
    "data.printSchema()\n",
    "data.show(5)"
   ]
  },
  {
   "cell_type": "code",
   "execution_count": 10,
   "metadata": {},
   "outputs": [
    {
     "name": "stderr",
     "output_type": "stream",
     "text": [
      "----\n",
      "None\n",
      "RGBA\n",
      "539\n",
      "577\n",
      "----ge 9:>                                                          (0 + 2) / 2]\n",
      "None\n",
      "RGBA\n",
      "537\n",
      "577\n"
     ]
    },
    {
     "name": "stdout",
     "output_type": "stream",
     "text": [
      "[{'path': 'file:/home/whim/univer/seventh_term/big_data/labas/denoiser/data/example2.png', 'image': <PIL.Image.Image image mode=RGBA size=537x577 at 0x7FCA5413F140>}, {'path': 'file:/home/whim/univer/seventh_term/big_data/labas/denoiser/data/example.png', 'image': <PIL.Image.Image image mode=RGBA size=539x577 at 0x7FCA5417EA50>}]\n"
     ]
    },
    {
     "name": "stderr",
     "output_type": "stream",
     "text": [
      "                                                                                \r"
     ]
    }
   ],
   "source": [
    "from PIL import Image\n",
    "from io import BytesIO\n",
    "\n",
    "\n",
    "\n",
    "def png_to_image(row):\n",
    "    \n",
    "    data = row.content\n",
    "    \n",
    "    stream = BytesIO(data)\n",
    "    image = Image.open(stream).convert(\"RGBA\")\n",
    "    \n",
    "    print(\"----\")\n",
    "    print(image.format)\n",
    "    print(image.mode)\n",
    "    print(image.size[0])\n",
    "    print(image.size[1])\n",
    "    \n",
    "    stream.close()\n",
    "    return {\"path\": row.path, \"image\": image}\n",
    "\n",
    "def get_denoised_image(image):\n",
    "    return image\n",
    "\n",
    "def to_denoised_image(data):\n",
    "    image = data[\"image\"]\n",
    "    initial_path = data[\"path\"]\n",
    "    \n",
    "    path = initial_path\n",
    "    new_image = get_denoised_image(image)\n",
    "    \n",
    "    \n",
    "    return {\"path\": path, \"image\": new_image}\n",
    "\n",
    "\n",
    "file_names = data.rdd \\\n",
    "    .map(png_to_image) \\\n",
    "    .map()\n",
    "\n",
    "result = file_names.collect()\n",
    "\n",
    "print(result)"
   ]
  }
 ],
 "metadata": {
  "kernelspec": {
   "display_name": "Python 3",
   "language": "python",
   "name": "python3"
  },
  "language_info": {
   "codemirror_mode": {
    "name": "ipython",
    "version": 3
   },
   "file_extension": ".py",
   "mimetype": "text/x-python",
   "name": "python",
   "nbconvert_exporter": "python",
   "pygments_lexer": "ipython3",
   "version": "3.12.0"
  }
 },
 "nbformat": 4,
 "nbformat_minor": 2
}
